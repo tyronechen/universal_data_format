{
 "cells": [
  {
   "cell_type": "markdown",
   "metadata": {},
   "source": [
    "# Parse BPA for input into pipeline\n",
    "\n",
    "We want files for each strain for each omics data and merge the conditions."
   ]
  },
  {
   "cell_type": "code",
   "execution_count": 1,
   "metadata": {},
   "outputs": [],
   "source": [
    "import matplotlib\n",
    "import pandas as pd\n",
    "# pd.set_option('display.max_rows', None)"
   ]
  },
  {
   "cell_type": "code",
   "execution_count": 2,
   "metadata": {},
   "outputs": [
    {
     "name": "stderr",
     "output_type": "stream",
     "text": [
      "/Users/tche0054/miniconda3/envs/graph/lib/python3.7/site-packages/IPython/core/interactiveshell.py:3049: DtypeWarning: Columns (1) have mixed types. Specify dtype option on import or set low_memory=False.\n",
      "  interactivity=interactivity, compiler=compiler, result=result)\n"
     ]
    }
   ],
   "source": [
    "infile_path = \"../multi_omics_master_heatmap_table.tsv\"\n",
    "data = pd.read_csv(infile_path, sep=\"\\t\")\n",
    "\n",
    "# two different metabolomics and proteomics platforms used\n",
    "exp_old = data[\"Type_of_Experiment\"].unique().tolist()\n",
    "exp_new = [\"Proteomics\", \"Proteomics\", \"Metabolomics\", \n",
    "           \"Metabolomics\", \"Transcriptomics\"]\n",
    "exp_map = dict(zip(exp_old, exp_new))\n",
    "data.replace({\"Type_of_Experiment\": exp_map}, inplace=True)"
   ]
  },
  {
   "cell_type": "code",
   "execution_count": 3,
   "metadata": {},
   "outputs": [],
   "source": [
    "# take one strain as example first\n",
    "strain = \"AJ292\"\n",
    "\n",
    "data = data[data[\"Strain\"] == strain]\n",
    "sample_info = data[[\n",
    "    \"replicate_name\", \"Treatment_Type\", \"Type_of_Experiment\"\n",
    "]].drop_duplicates()\n",
    "sample_info.set_index(\"replicate_name\", inplace=True)"
   ]
  },
  {
   "cell_type": "code",
   "execution_count": 4,
   "metadata": {
    "scrolled": false
   },
   "outputs": [],
   "source": [
    "meta = data[data[\"Type_of_Experiment\"] == \"Metabolomics\"]\n",
    "prot = data[data[\"Type_of_Experiment\"] == \"Proteomics\"]\n",
    "tran = data[data[\"Type_of_Experiment\"] == \"Transcriptomics\"]\n",
    "\n",
    "meta = meta[[\n",
    "    \"entity_id\", \"replicate_name\", \"Log_Counts\"\n",
    "]].pivot_table(\n",
    "    index=\"replicate_name\", \n",
    "    columns=\"entity_id\", \n",
    "    values=\"Log_Counts\",\n",
    ")\n",
    "\n",
    "prot = prot[[\n",
    "    \"entity_id\", \"replicate_name\", \"Log_Counts\"\n",
    "]].pivot_table(\n",
    "    index=\"replicate_name\", \n",
    "    columns=\"entity_id\", \n",
    "    values=\"Log_Counts\",\n",
    ")\n",
    "\n",
    "tran = tran[[\n",
    "    \"entity_id\", \"replicate_name\", \"Log_Counts\"\n",
    "]].pivot_table(\n",
    "    index=\"replicate_name\", \n",
    "    columns=\"entity_id\", \n",
    "    values=\"Log_Counts\",\n",
    ")\n",
    "\n",
    "# check for missing values in data\n",
    "missing = [\n",
    "    meta.isnull().sum(axis=1).sum(),\n",
    "    prot.isnull().sum(axis=1).sum(),\n",
    "    tran.isnull().sum(axis=1).sum(),\n",
    "]"
   ]
  },
  {
   "cell_type": "code",
   "execution_count": 5,
   "metadata": {},
   "outputs": [],
   "source": [
    "def remap_samples(sample_info, omics_block, omics_name):\n",
    "    index = sample_info[sample_info[\"Type_of_Experiment\"] == omics_name][\"Treatment_Type\"]\n",
    "    mapped = pd.DataFrame(index).merge(omics_block, left_index=True, right_index=True)\n",
    "    mapped = mapped.reset_index().set_index(\"Treatment_Type\").drop(\"replicate_name\", axis=1)\n",
    "    mapped.sort_values(\"Treatment_Type\", inplace=True)\n",
    "    mapped.reset_index(inplace=True)\n",
    "    \n",
    "    treat = pd.DataFrame(mapped.Treatment_Type)\n",
    "    count = pd.DataFrame(pd.Series(mapped.index, dtype=str))\n",
    "    treat_count = pd.merge(treat, count, left_index=True, right_index=True)\n",
    "    mapped[\"tmp\"] = treat_count[\"Treatment_Type\"] + \"_\" + treat_count[0]\n",
    "    mapped.drop(\"Treatment_Type\", axis=1, inplace=True)\n",
    "    mapped.set_index(\"tmp\", inplace=True)\n",
    "    mapped.index.name = None\n",
    "    mapped.to_csv(\".\".join([omics_name, \"tsv\"]) ,sep=\"\\t\")\n",
    "    return mapped\n",
    "    \n",
    "mapped_meta = remap_samples(sample_info, meta, \"Metabolomics\")\n",
    "mapped_prot = remap_samples(sample_info, prot, \"Proteomics\")\n",
    "mapped_tran = remap_samples(sample_info, tran, \"Transcriptomics\")"
   ]
  },
  {
   "cell_type": "code",
   "execution_count": 6,
   "metadata": {},
   "outputs": [],
   "source": [
    "pheno = pd.DataFrame(mapped_meta.index)\n",
    "pheno[\"Growth_Media\"] = pheno[0]\n",
    "pheno.set_index(0, inplace=True)\n",
    "pheno.index.name = None\n",
    "pheno = pd.DataFrame(pheno.Growth_Media.str.split(\"_\", expand=True)[0])\n",
    "pheno.columns = [\"Growth_Media\"]\n",
    "pheno.to_csv(\"targets.tsv\", sep=\"\\t\")"
   ]
  },
  {
   "cell_type": "code",
   "execution_count": 7,
   "metadata": {},
   "outputs": [
    {
     "name": "stdout",
     "output_type": "stream",
     "text": [
      "MD5 (Metabolomics.tsv) = 9dafa5f07f26d05d1a2c8243fc1210d2\n",
      "MD5 (Proteomics.tsv) = da31039054c4a3e389be76cb62e52080\n",
      "MD5 (Transcriptomics.tsv) = 654d1344e5ee48503153fad2e1ed838d\n",
      "MD5 (targets.tsv) = fd7fbb00c917cdaa8789ece2f9515cf8\n",
      "MD5 (../multi_omics_master_heatmap_table.tsv) = 2cf0f076d94b9ed0f0810862997a76fe\n"
     ]
    }
   ],
   "source": [
    "!md5 Metabolomics.tsv Proteomics.tsv Transcriptomics.tsv targets.tsv ../multi_omics_master_heatmap_table.tsv"
   ]
  },
  {
   "cell_type": "code",
   "execution_count": null,
   "metadata": {},
   "outputs": [],
   "source": []
  }
 ],
 "metadata": {
  "kernelspec": {
   "display_name": "Python [conda env:graph]",
   "language": "python",
   "name": "conda-env-graph-py"
  },
  "language_info": {
   "codemirror_mode": {
    "name": "ipython",
    "version": 3
   },
   "file_extension": ".py",
   "mimetype": "text/x-python",
   "name": "python",
   "nbconvert_exporter": "python",
   "pygments_lexer": "ipython3",
   "version": "3.7.3"
  }
 },
 "nbformat": 4,
 "nbformat_minor": 4
}
